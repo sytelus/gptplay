{
 "cells": [
  {
   "cell_type": "code",
   "execution_count": 54,
   "metadata": {},
   "outputs": [],
   "source": [
    "from grokking import utils"
   ]
  },
  {
   "cell_type": "code",
   "execution_count": 55,
   "metadata": {},
   "outputs": [],
   "source": [
    "#log_filepath = r\"D:\\Dropbox\\out_dir\\grokking\\seed_search.txt\"\n",
    "#log_filepath = r\"D:\\Dropbox\\out_dir\\grokking\\magic8_seed_search.txt\"\n",
    "log_filepath = r\"D:\\Dropbox\\out_dir\\grokking\\seed_search_wd0_magic8.txt\"\n",
    "\n",
    "\n"
   ]
  },
  {
   "cell_type": "code",
   "execution_count": 56,
   "metadata": {},
   "outputs": [
    {
     "name": "stdout",
     "output_type": "stream",
     "text": [
      "Number of logs: 1539\n",
      "Example log: {'seed': 0, 'data_loader_seed': 8, 'train/step': 2999, 'val/acc': 0.007353, 'val/loss': 16.32, 'train/acc': 0.957, 'train/loss': 0.1541, 'w_norm': 73.16, 'lr': 0.001}\n"
     ]
    }
   ],
   "source": [
    "with open(log_filepath, 'r') as f:\n",
    "    lines = f.readlines()\n",
    "\n",
    "logs = []\n",
    "for line in lines:\n",
    "    if 'seed=' not in line:\n",
    "        continue\n",
    "    columns = line.split('[INFO] ')[1].split(',')\n",
    "    log = {}\n",
    "    for column in columns:\n",
    "        if '=' in column:\n",
    "            key, val = tuple(column.split('='))\n",
    "            val = val.strip()\n",
    "            if val.isnumeric():\n",
    "                val = int(val)\n",
    "            else:\n",
    "                try:\n",
    "                    val = float(val)\n",
    "                except ValueError:\n",
    "                    pass\n",
    "            log[key.strip()] = val\n",
    "    logs.append(log)\n",
    "    \n",
    "print('Number of logs: {}'.format(len(logs)))\n",
    "print('Example log: {}'.format(logs[0]))"
   ]
  },
  {
   "cell_type": "code",
   "execution_count": 57,
   "metadata": {},
   "outputs": [
    {
     "data": {
      "image/png": "[encoded data removed]",
      "text/plain": [
       "<Figure size 640x480 with 1 Axes>"
      ]
     },
     "metadata": {},
     "output_type": "display_data"
    }
   ],
   "source": [
    "utils.draw_histogram([log['val/acc'] for log in logs if log['val/acc'] > 0], 'Val Acc', 'Frequency', 'Val acc histogram')"
   ]
  },
  {
   "cell_type": "code",
   "execution_count": 58,
   "metadata": {},
   "outputs": [
    {
     "name": "stdout",
     "output_type": "stream",
     "text": [
      "[('0b1001110011', 627)]\n",
      "Number of good seeds: 1\n",
      "% of good seeds: 0.0649772579597141%\n"
     ]
    }
   ],
   "source": [
    "good_seeds = [log['seed'] for log in logs if log['val/acc'] > 0.98]\n",
    "print([(bin(g),g) for g in good_seeds])\n",
    "print('Number of good seeds: {}'.format(len(good_seeds)))\n",
    "print('% of good seeds: {}%'.format(len(good_seeds) * 100.0 / len(logs)))"
   ]
  },
  {
   "cell_type": "code",
   "execution_count": 59,
   "metadata": {},
   "outputs": [
    {
     "name": "stdout",
     "output_type": "stream",
     "text": [
      "Number of normal seeds: 1533\n",
      "% of normal_seeds seeds: 99.61013645224172%\n"
     ]
    }
   ],
   "source": [
    "normal_seeds = [log['seed'] for log in logs if log['val/acc'] < 0.25]\n",
    "print('Number of normal seeds: {}'.format(len(normal_seeds)))\n",
    "print('% of normal_seeds seeds: {}%'.format(len(normal_seeds) * 100.0 / len(logs)))"
   ]
  }
 ],
 "metadata": {
  "kernelspec": {
   "display_name": "base",
   "language": "python",
   "name": "python3"
  },
  "language_info": {
   "codemirror_mode": {
    "name": "ipython",
    "version": 3
   },
   "file_extension": ".py",
   "mimetype": "text/x-python",
   "name": "python",
   "nbconvert_exporter": "python",
   "pygments_lexer": "ipython3",
   "version": "3.10.9"
  },
  "orig_nbformat": 4
 },
 "nbformat": 4,
 "nbformat_minor": 2
}
