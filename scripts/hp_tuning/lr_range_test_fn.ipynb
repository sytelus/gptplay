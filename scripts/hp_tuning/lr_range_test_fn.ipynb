{
 "cells": [
  {
   "cell_type": "code",
   "execution_count": 2,
   "metadata": {},
   "outputs": [
    {
     "name": "stdout",
     "output_type": "stream",
     "text": [
      "0 8.20849986238988e-05\n",
      "10 0.0001353352832366127\n",
      "20 0.00022313016014842982\n",
      "30 0.00036787944117144236\n",
      "40 0.0006065306597126336\n",
      "50 0.001\n",
      "60 0.001648721270700128\n",
      "70 0.0027182818284590448\n",
      "80 0.004481689070338066\n",
      "90 0.007389056098930651\n"
     ]
    }
   ],
   "source": [
    "import math\n",
    "\n",
    "lr_guess = 1.0E-3 #6.0E-4\n",
    "coeff = 5.0\n",
    "max_steps = 100\n",
    "\n",
    "for x in range(0, max_steps, 10):\n",
    "    print(x, lr_guess * math.exp(coeff * (x/max_steps-0.5)))"
   ]
  }
 ],
 "metadata": {
  "kernelspec": {
   "display_name": "base",
   "language": "python",
   "name": "python3"
  },
  "language_info": {
   "codemirror_mode": {
    "name": "ipython",
    "version": 3
   },
   "file_extension": ".py",
   "mimetype": "text/x-python",
   "name": "python",
   "nbconvert_exporter": "python",
   "pygments_lexer": "ipython3",
   "version": "3.11.5"
  }
 },
 "nbformat": 4,
 "nbformat_minor": 2
}
