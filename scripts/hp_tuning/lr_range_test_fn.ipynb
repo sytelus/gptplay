{
 "cells": [
  {
   "cell_type": "code",
   "execution_count": 25,
   "metadata": {},
   "outputs": [
    {
     "name": "stdout",
     "output_type": "stream",
     "text": [
      "0.0 4.925099917433927e-05\n",
      "0.1 8.120116994196761e-05\n",
      "0.2 0.0001338780960890579\n",
      "0.3 0.00022072766470286538\n",
      "0.4 0.0003639183958275801\n",
      "0.5 0.0006\n",
      "0.6 0.0009892327624200768\n",
      "0.7 0.0016309690970754266\n",
      "0.8 0.002689013442202839\n",
      "0.9 0.00443343365935839\n"
     ]
    }
   ],
   "source": [
    "import math\n",
    "\n",
    "lr_guess = 6.0E-4\n",
    "rho = 1.0E-3\n",
    "\n",
    "for x in range(0, 100, 10):\n",
    "    x=x/100.0\n",
    "    print(x, lr_guess * math.exp(5 * (x-0.5)))"
   ]
  }
 ],
 "metadata": {
  "kernelspec": {
   "display_name": "base",
   "language": "python",
   "name": "python3"
  },
  "language_info": {
   "codemirror_mode": {
    "name": "ipython",
    "version": 3
   },
   "file_extension": ".py",
   "mimetype": "text/x-python",
   "name": "python",
   "nbconvert_exporter": "python",
   "pygments_lexer": "ipython3",
   "version": "3.10.9"
  }
 },
 "nbformat": 4,
 "nbformat_minor": 2
}
