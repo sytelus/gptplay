{
 "cells": [
  {
   "cell_type": "code",
   "execution_count": 1,
   "metadata": {},
   "outputs": [],
   "source": [
    "from grokking import utils"
   ]
  },
  {
   "cell_type": "code",
   "execution_count": 2,
   "metadata": {},
   "outputs": [],
   "source": [
    "log_filepath = r\"D:\\Dropbox\\out_dir\\grokking\\seed_search_loader_gen.txt\""
   ]
  },
  {
   "cell_type": "code",
   "execution_count": 3,
   "metadata": {},
   "outputs": [
    {
     "name": "stdout",
     "output_type": "stream",
     "text": [
      "Number of logs: 709\n",
      "Example log: {'data_loader_seed': 0, 'train/step': 3000, 'val/acc': 0.01196, 'epoch': 62, 'epoch_step': 11}\n"
     ]
    }
   ],
   "source": [
    "with open(log_filepath, 'r') as f:\n",
    "    lines = f.readlines()\n",
    "\n",
    "logs = []\n",
    "for line in lines:\n",
    "    columns = line.split('[INFO] ')[1].split(',')\n",
    "    log = {}\n",
    "    for column in columns:\n",
    "        if '=' in column:\n",
    "            key, val = tuple(column.split('='))\n",
    "            val = val.strip()\n",
    "            if val.isnumeric():\n",
    "                val = int(val)\n",
    "            else:\n",
    "                try:\n",
    "                    val = float(val)\n",
    "                except ValueError:\n",
    "                    pass\n",
    "            log[key.strip()] = val\n",
    "    logs.append(log)\n",
    "    \n",
    "print('Number of logs: {}'.format(len(logs)))\n",
    "print('Example log: {}'.format(logs[0]))"
   ]
  },
  {
   "cell_type": "code",
   "execution_count": 8,
   "metadata": {},
   "outputs": [
    {
     "data": {
      "image/png": "[encoded data removed]",
      "text/plain": [
       "<Figure size 640x480 with 1 Axes>"
      ]
     },
     "metadata": {},
     "output_type": "display_data"
    }
   ],
   "source": [
    "utils.draw_histogram([log['val/acc'] for log in logs if log['val/acc'] < 0.3], 'Val Acc', 'Frequency', 'Val acc histogram')"
   ]
  },
  {
   "cell_type": "code",
   "execution_count": 6,
   "metadata": {},
   "outputs": [
    {
     "name": "stdout",
     "output_type": "stream",
     "text": [
      "['0b1000', '0b11011100', '0b1000000010']\n",
      "Number of good seeds: 3\n",
      "% of good seeds: 0.4231311706629055%\n"
     ]
    }
   ],
   "source": [
    "good_seeds = [log['data_loader_seed'] for log in logs if log['val/acc'] > 0.98]\n",
    "print([bin(g) for g in good_seeds])\n",
    "print('Number of good seeds: {}'.format(len(good_seeds)))\n",
    "print('% of good seeds: {}%'.format(len(good_seeds) * 100.0 / len(logs)))"
   ]
  },
  {
   "cell_type": "code",
   "execution_count": 9,
   "metadata": {},
   "outputs": [
    {
     "name": "stdout",
     "output_type": "stream",
     "text": [
      "Number of normal seeds: 671\n",
      "% of normal_seeds seeds: 94.64033850493654%\n"
     ]
    }
   ],
   "source": [
    "normal_seeds = [log['data_loader_seed'] for log in logs if log['val/acc'] < 0.25]\n",
    "print('Number of normal seeds: {}'.format(len(normal_seeds)))\n",
    "print('% of normal_seeds seeds: {}%'.format(len(normal_seeds) * 100.0 / len(logs)))"
   ]
  }
 ],
 "metadata": {
  "kernelspec": {
   "display_name": "base",
   "language": "python",
   "name": "python3"
  },
  "language_info": {
   "codemirror_mode": {
    "name": "ipython",
    "version": 3
   },
   "file_extension": ".py",
   "mimetype": "text/x-python",
   "name": "python",
   "nbconvert_exporter": "python",
   "pygments_lexer": "ipython3",
   "version": "3.10.9"
  },
  "orig_nbformat": 4
 },
 "nbformat": 4,
 "nbformat_minor": 2
}
