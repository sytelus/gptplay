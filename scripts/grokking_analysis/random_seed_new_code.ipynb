{
 "cells": [
  {
   "cell_type": "code",
   "execution_count": 1,
   "metadata": {},
   "outputs": [],
   "source": [
    "from gptplay import utils"
   ]
  },
  {
   "cell_type": "code",
   "execution_count": 5,
   "metadata": {},
   "outputs": [],
   "source": [
    "log_filepath = r\"~/out_dir/grokking/seed_scane_new_code.txt\"\n",
    "#log_filepath = r\"D:\\Dropbox\\out_dir\\grokking\\magic8_seed_search.txt\"\n",
    "#log_filepath = r\"D:\\Dropbox\\out_dir\\grokking\\seed_search_wd0_magic8.txt\"\n",
    "\n",
    "\n"
   ]
  },
  {
   "cell_type": "code",
   "execution_count": 7,
   "metadata": {},
   "outputs": [
    {
     "name": "stdout",
     "output_type": "stream",
     "text": [
      "Number of logs: 7193\n",
      "Example log: {'seed': 0, 'train/step': 2999, 'train/loss': 0.1319, 'train/ppl': 1.141, 'train/acc': 0.9693, 'val/loss': 16.29, 'val/ppl': 11900000.0, 'val/acc': 0.005817, 'w_norm': 72.91, 'lr': 0.001}\n"
     ]
    }
   ],
   "source": [
    "with open(utils.full_path(log_filepath), 'r') as f:\n",
    "    lines = f.readlines()\n",
    "\n",
    "logs = []\n",
    "for line in lines:\n",
    "    if 'val/acc=' not in line:\n",
    "        continue\n",
    "    columns = line.split('[INFO] ')[1].split(',')\n",
    "    log = {}\n",
    "    for column in columns:\n",
    "        if '=' in column:\n",
    "            key, val = tuple(column.split('='))\n",
    "            val = val.strip()\n",
    "            if val.isnumeric():\n",
    "                val = int(val)\n",
    "            else:\n",
    "                try:\n",
    "                    val = float(val)\n",
    "                except ValueError:\n",
    "                    pass\n",
    "            log[key.strip()] = val\n",
    "    logs.append(log)\n",
    "    \n",
    "print('Number of logs: {}'.format(len(logs)))\n",
    "print('Example log: {}'.format(logs[0]))"
   ]
  },
  {
   "cell_type": "code",
   "execution_count": 8,
   "metadata": {},
   "outputs": [
    {
     "data": {
      "image/png": "[encoded data removed]",
      "text/plain": [
       "<Figure size 640x480 with 1 Axes>"
      ]
     },
     "metadata": {},
     "output_type": "display_data"
    }
   ],
   "source": [
    "utils.draw_histogram([log['val/acc'] for log in logs if log['val/acc'] > 0], 'Val Acc', 'Frequency', 'Val acc histogram')"
   ]
  },
  {
   "cell_type": "code",
   "execution_count": 9,
   "metadata": {},
   "outputs": [
    {
     "name": "stdout",
     "output_type": "stream",
     "text": [
      "[]\n",
      "Number of good seeds: 0\n",
      "% of good seeds: 0.0%\n"
     ]
    }
   ],
   "source": [
    "good_seeds = [log['seed'] for log in logs if log['val/acc'] > 0.98]\n",
    "print([(bin(g),g) for g in good_seeds])\n",
    "print('Number of good seeds: {}'.format(len(good_seeds)))\n",
    "print('% of good seeds: {}%'.format(len(good_seeds) * 100.0 / len(logs)))"
   ]
  },
  {
   "cell_type": "code",
   "execution_count": 10,
   "metadata": {},
   "outputs": [
    {
     "name": "stdout",
     "output_type": "stream",
     "text": [
      "Number of normal seeds: 7184\n",
      "% of normal_seeds seeds: 99.87487835395524%\n"
     ]
    }
   ],
   "source": [
    "normal_seeds = [log['seed'] for log in logs if log['val/acc'] < 0.25]\n",
    "print('Number of normal seeds: {}'.format(len(normal_seeds)))\n",
    "print('% of normal_seeds seeds: {}%'.format(len(normal_seeds) * 100.0 / len(logs)))"
   ]
  }
 ],
 "metadata": {
  "kernelspec": {
   "display_name": "base",
   "language": "python",
   "name": "python3"
  },
  "language_info": {
   "codemirror_mode": {
    "name": "ipython",
    "version": 3
   },
   "file_extension": ".py",
   "mimetype": "text/x-python",
   "name": "python",
   "nbconvert_exporter": "python",
   "pygments_lexer": "ipython3",
   "version": "3.11.4"
  },
  "orig_nbformat": 4
 },
 "nbformat": 4,
 "nbformat_minor": 2
}
